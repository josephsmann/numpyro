{
 "cells": [
  {
   "cell_type": "code",
   "execution_count": 3,
   "metadata": {},
   "outputs": [
    {
     "data": {
      "text/html": [
       "\n",
       "<div id=\"altair-viz-9b7ca53e04c04486b75b5ec43bbbfa47\"></div>\n",
       "<script type=\"text/javascript\">\n",
       "  (function(spec, embedOpt){\n",
       "    let outputDiv = document.currentScript.previousElementSibling;\n",
       "    if (outputDiv.id !== \"altair-viz-9b7ca53e04c04486b75b5ec43bbbfa47\") {\n",
       "      outputDiv = document.getElementById(\"altair-viz-9b7ca53e04c04486b75b5ec43bbbfa47\");\n",
       "    }\n",
       "    const paths = {\n",
       "      \"vega\": \"https://cdn.jsdelivr.net/npm//vega@5?noext\",\n",
       "      \"vega-lib\": \"https://cdn.jsdelivr.net/npm//vega-lib?noext\",\n",
       "      \"vega-lite\": \"https://cdn.jsdelivr.net/npm//vega-lite@4.8.1?noext\",\n",
       "      \"vega-embed\": \"https://cdn.jsdelivr.net/npm//vega-embed@6?noext\",\n",
       "    };\n",
       "\n",
       "    function loadScript(lib) {\n",
       "      return new Promise(function(resolve, reject) {\n",
       "        var s = document.createElement('script');\n",
       "        s.src = paths[lib];\n",
       "        s.async = true;\n",
       "        s.onload = () => resolve(paths[lib]);\n",
       "        s.onerror = () => reject(`Error loading script: ${paths[lib]}`);\n",
       "        document.getElementsByTagName(\"head\")[0].appendChild(s);\n",
       "      });\n",
       "    }\n",
       "\n",
       "    function showError(err) {\n",
       "      outputDiv.innerHTML = `<div class=\"error\" style=\"color:red;\">${err}</div>`;\n",
       "      throw err;\n",
       "    }\n",
       "\n",
       "    function displayChart(vegaEmbed) {\n",
       "      vegaEmbed(outputDiv, spec, embedOpt)\n",
       "        .catch(err => showError(`Javascript Error: ${err.message}<br>This usually means there's a typo in your chart specification. See the javascript console for the full traceback.`));\n",
       "    }\n",
       "\n",
       "    if(typeof define === \"function\" && define.amd) {\n",
       "      requirejs.config({paths});\n",
       "      require([\"vega-embed\"], displayChart, err => showError(`Error loading script: ${err.message}`));\n",
       "    } else if (typeof vegaEmbed === \"function\") {\n",
       "      displayChart(vegaEmbed);\n",
       "    } else {\n",
       "      loadScript(\"vega\")\n",
       "        .then(() => loadScript(\"vega-lite\"))\n",
       "        .then(() => loadScript(\"vega-embed\"))\n",
       "        .catch(showError)\n",
       "        .then(() => displayChart(vegaEmbed));\n",
       "    }\n",
       "  })({\"config\": {\"view\": {\"continuousWidth\": 400, \"continuousHeight\": 300}}, \"layer\": [{\"mark\": {\"type\": \"line\", \"color\": \"#db646f\"}, \"encoding\": {\"detail\": {\"type\": \"nominal\", \"field\": \"country\"}, \"x\": {\"type\": \"quantitative\", \"field\": \"life_expect\"}, \"y\": {\"type\": \"nominal\", \"field\": \"country\"}}}, {\"mark\": {\"type\": \"point\", \"filled\": true, \"opacity\": 1, \"size\": 100}, \"encoding\": {\"color\": {\"type\": \"ordinal\", \"field\": \"year\", \"scale\": {\"domain\": [\"1955\", \"2000\"], \"range\": [\"#e6959c\", \"#911a24\"]}}, \"x\": {\"type\": \"quantitative\", \"field\": \"life_expect\"}, \"y\": {\"type\": \"nominal\", \"field\": \"country\"}}, \"selection\": {\"selector003\": {\"type\": \"interval\", \"bind\": \"scales\", \"encodings\": [\"x\", \"y\"]}}}], \"data\": {\"url\": \"https://vega.github.io/vega-datasets/data/countries.json\"}, \"transform\": [{\"filter\": {\"field\": \"country\", \"oneOf\": [\"China\", \"India\", \"United States\", \"Indonesia\", \"Brazil\"]}}, {\"filter\": {\"field\": \"year\", \"oneOf\": [1955, 2000]}}], \"$schema\": \"https://vega.github.io/schema/vega-lite/v4.8.1.json\"}, {\"mode\": \"vega-lite\"});\n",
       "</script>"
      ],
      "text/plain": [
       "alt.LayerChart(...)"
      ]
     },
     "execution_count": 3,
     "metadata": {},
     "output_type": "execute_result"
    }
   ],
   "source": [
    "import altair as alt\n",
    "from vega_datasets import data\n",
    "\n",
    "source = data.countries.url\n",
    "\n",
    "chart = alt.layer(\n",
    "    data=source\n",
    ").transform_filter(\n",
    "    filter={\"field\": 'country',\n",
    "            \"oneOf\": [\"China\", \"India\", \"United States\", \"Indonesia\", \"Brazil\"]}\n",
    ").transform_filter(\n",
    "    filter={'field': 'year',\n",
    "            \"oneOf\": [1955, 2000]}\n",
    ")\n",
    "\n",
    "chart += alt.Chart().mark_line(color='#db646f').encode(\n",
    "    x='life_expect:Q',\n",
    "    y='country:N',\n",
    "    detail='country:N'\n",
    ")\n",
    "# Add points for life expectancy in 1955 & 2000\n",
    "chart += alt.Chart().mark_point(\n",
    "    size=100,\n",
    "    opacity=1,\n",
    "    filled=True\n",
    ").encode(\n",
    "    x='life_expect:Q',\n",
    "    y='country:N',\n",
    "    color=alt.Color('year:O',\n",
    "        scale=alt.Scale(\n",
    "            domain=['1955', '2000'],\n",
    "            range=['#e6959c', '#911a24']\n",
    "        )\n",
    "    )\n",
    ").interactive()\n",
    "\n",
    "chart"
   ]
  },
  {
   "cell_type": "code",
   "execution_count": null,
   "metadata": {},
   "outputs": [],
   "source": []
  }
 ],
 "metadata": {
  "kernelspec": {
   "display_name": "Python 3",
   "language": "python",
   "name": "python3"
  },
  "language_info": {
   "codemirror_mode": {
    "name": "ipython",
    "version": 3
   },
   "file_extension": ".py",
   "mimetype": "text/x-python",
   "name": "python",
   "nbconvert_exporter": "python",
   "pygments_lexer": "ipython3",
   "version": "3.8.2"
  }
 },
 "nbformat": 4,
 "nbformat_minor": 4
}
